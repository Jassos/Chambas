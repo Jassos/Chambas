{
 "cells": [
  {
   "cell_type": "raw",
   "id": "96de400cadd6fbe8",
   "metadata": {},
   "source": [
    "# DEPENDENCIAS\n",
    "\n",
    "Puedes ejecutar una vez este codigo y luego borrarlo."
   ]
  },
  {
   "cell_type": "code",
   "execution_count": null,
   "id": "5bfcafc77bd3290a",
   "metadata": {},
   "outputs": [],
   "source": [
    "# pip install pandas lxml undetected-chromedriver selenium requests"
   ]
  },
  {
   "cell_type": "markdown",
   "id": "6fa6f6b4f39d7b1c",
   "metadata": {},
   "source": [
    "# Librerias"
   ]
  },
  {
   "cell_type": "code",
   "execution_count": 17,
   "id": "initial_id",
   "metadata": {
    "ExecuteTime": {
     "end_time": "2025-01-28T05:08:38.319255Z",
     "start_time": "2025-01-28T05:08:37.209375Z"
    },
    "collapsed": true
   },
   "outputs": [],
   "source": [
    "import requests\n",
    "import pandas as pd\n",
    "import random\n",
    "\n",
    "import os\n",
    "\n",
    "from bs4 import BeautifulSoup as bs\n",
    "import random\n",
    "import time\n",
    "\n",
    "import pandas as pd\n",
    "import numpy as np\n",
    "\n",
    "from selenium import webdriver\n",
    "from selenium.webdriver.common.by import By\n",
    "from selenium.webdriver.common.keys import Keys\n",
    "from selenium.webdriver.chrome.service import Service\n",
    "from selenium.webdriver.chrome.options import Options\n",
    "from selenium.webdriver.support import expected_conditions as EC\n",
    "from selenium.webdriver.support.ui import WebDriverWait\n",
    "\n",
    "import undetected_chromedriver as uc\n",
    "\n",
    "\n",
    "from dotenv import load_dotenv\n",
    "from openai import OpenAI\n",
    "from pydantic import BaseModel\n"
   ]
  },
  {
   "cell_type": "code",
   "execution_count": 10,
   "id": "a6f712d1",
   "metadata": {},
   "outputs": [],
   "source": [
    "# Ruta local al driver de Chrome\n",
    "ruta_driver = r\"C:\\Users\\diego\\OneDrive\\Escritorio\\PyCharm\\Chambas\\chromedriver-win64/chromedriver.exe\"\n",
    "\n",
    "# Configuración de opciones del navegador\n",
    "chrome_options = Options()\n",
    "# chrome_options.add_argument('--headless')  # Ejecutar sin abrir ventana\n",
    "chrome_options.add_argument('--disable-gpu')\n",
    "chrome_options.add_argument('--no-sandbox')\n",
    "\n",
    "load_dotenv()\n",
    "client = OpenAI(api_key=os.getenv(\"OPENAI_API_KEY\"))"
   ]
  },
  {
   "cell_type": "markdown",
   "id": "2d521fac89f602b",
   "metadata": {},
   "source": [
    "# Obtención de IDS de chambas"
   ]
  },
  {
   "cell_type": "code",
   "execution_count": 11,
   "id": "7bace59b",
   "metadata": {},
   "outputs": [],
   "source": [
    "service = Service(executable_path=ruta_driver)\n",
    "browser = webdriver.Chrome(service=service, options=chrome_options)"
   ]
  },
  {
   "cell_type": "code",
   "execution_count": 3,
   "id": "54131f93d52eb2c2",
   "metadata": {
    "ExecuteTime": {
     "end_time": "2025-01-29T06:02:44.825150Z",
     "start_time": "2025-01-29T06:02:44.635703Z"
    }
   },
   "outputs": [
    {
     "name": "stdout",
     "output_type": "stream",
     "text": [
      "jobcard-20665279\n",
      "jobcard-20605828\n",
      "jobcard-20612197\n",
      "jobcard-20652795\n",
      "jobcard-20649886\n",
      "jobcard-20557768\n",
      "jobcard-20647492\n",
      "jobcard-20568473\n",
      "jobcard-20645495\n",
      "jobcard-20575437\n",
      "jobcard-20642450\n",
      "Deteniendo Busqueda.\n",
      "['20665279', '20605828', '20612197', '20652795', '20649886', '20557768', '20647492', '20568473', '20645495', '20575437', '20642450']\n"
     ]
    }
   ],
   "source": [
    "# Abre Google\n",
    "service = Service(executable_path=ruta_driver)\n",
    "browser = webdriver.Chrome(service=service, options=chrome_options)\n",
    "\n",
    "# Cambia el nombre según el puesto que busques.\n",
    "# Esto tambien definira el nombre del Excel que se genere.\n",
    "busqueda = 'especialista en implementacion de software'\n",
    "\n",
    "busqueda = busqueda.replace(' ','-')\n",
    "\n",
    "# Numero de pagina en el que inicia a buscar.\n",
    "x=1\n",
    "ids = []\n",
    "\n",
    "while True:\n",
    "\n",
    "    url = f'https://www.occ.com.mx/empleos/de-{busqueda}/?page={x}'\n",
    "    browser.get(url)\n",
    "    time.sleep(random.randint(10,12))\n",
    "    html = browser.page_source\n",
    "    soup = bs(html, 'lxml')\n",
    "    articles = soup.find('div',{'class':'flex flex-col'}).find_all('div', class_='bg-bg-surface-default')\n",
    "    x = x+1\n",
    "\n",
    "    # Obtiene IDS de cada trabajo en la pagina\n",
    "    for article in articles:\n",
    "        id_jobs = article.get('id')\n",
    "        ids.append(id_jobs)\n",
    "        time.sleep(random.randint(1,3))\n",
    "        print(id_jobs)\n",
    "\n",
    "    ids = [jobs for jobs in ids if jobs is not None]\n",
    "\n",
    "    if x > 1:  # Ajusta este número con base a las páginas que deseas buscar. Para mi 2 es suficiente, pero pudes poner las que gustes\n",
    "        print(\"Deteniendo Busqueda.\")\n",
    "        break\n",
    "\n",
    "browser.quit()\n",
    "# Eliminar letras de las IDs para generar enlaces de busqueda más adelante.\n",
    "ids = [id_muebles.split('-')[-1] for id_muebles in ids]\n",
    "print(ids)"
   ]
  },
  {
   "cell_type": "code",
   "execution_count": 4,
   "id": "1fc67562270534dc",
   "metadata": {
    "ExecuteTime": {
     "end_time": "2025-01-28T06:51:19.765693Z",
     "start_time": "2025-01-28T06:51:19.760184Z"
    }
   },
   "outputs": [
    {
     "data": {
      "text/plain": [
       "['https://www.occ.com.mx/empleos/de-especialista-en-implementacion-de-software/?jobid=20652795',\n",
       " 'https://www.occ.com.mx/empleos/de-especialista-en-implementacion-de-software/?jobid=20612197']"
      ]
     },
     "execution_count": 4,
     "metadata": {},
     "output_type": "execute_result"
    }
   ],
   "source": [
    "# Elegir 15 IDs Aletoriamente\n",
    "ids_filtro = random.sample(ids, 2)\n",
    "\n",
    "# Formación y guardado de Enlaces de Chambas\n",
    "link_chambas = [f'https://www.occ.com.mx/empleos/de-{busqueda}/?jobid={id}' for id in ids_filtro]\n",
    "link_chambas"
   ]
  },
  {
   "cell_type": "markdown",
   "id": "b641b3ae3c00d994",
   "metadata": {},
   "source": [
    "# Scrapping de Trabajos y Exportación EXCEL"
   ]
  },
  {
   "cell_type": "code",
   "execution_count": 19,
   "id": "4d0c0b48d4bfba8",
   "metadata": {
    "ExecuteTime": {
     "end_time": "2025-01-28T06:54:13.961399Z",
     "start_time": "2025-01-28T06:51:22.451103Z"
    }
   },
   "outputs": [
    {
     "name": "stdout",
     "output_type": "stream",
     "text": [
      "Esperando 3.34 segundos antes de continuar...\n",
      "No se encontró el título en: https://www.occ.com.mx/empleos/de-especialista-en-implementacion-de-software/?jobid=20652795\n",
      "No se encontró el lugar en: https://www.occ.com.mx/empleos/de-especialista-en-implementacion-de-software/?jobid=20652795\n",
      "No se encontró la Paga en el formato especificado.\n",
      "No se encontró la empresa en: https://www.occ.com.mx/empleos/de-especialista-en-implementacion-de-software/?jobid=20652795\n",
      "No se encontró la info en: https://www.occ.com.mx/empleos/de-especialista-en-implementacion-de-software/?jobid=20652795\n",
      "No se encontró la info en: https://www.occ.com.mx/empleos/de-especialista-en-implementacion-de-software/?jobid=20652795\n",
      "\n",
      "Esperando 3.90 segundos antes de continuar...\n",
      "No se encontró el título en: https://www.occ.com.mx/empleos/de-especialista-en-implementacion-de-software/?jobid=20612197\n",
      "No se encontró el lugar en: https://www.occ.com.mx/empleos/de-especialista-en-implementacion-de-software/?jobid=20612197\n",
      "No se encontró la Paga en el formato especificado.\n",
      "No se encontró la empresa en: https://www.occ.com.mx/empleos/de-especialista-en-implementacion-de-software/?jobid=20612197\n",
      "No se encontró la info en: https://www.occ.com.mx/empleos/de-especialista-en-implementacion-de-software/?jobid=20612197\n",
      "No se encontró la info en: https://www.occ.com.mx/empleos/de-especialista-en-implementacion-de-software/?jobid=20612197\n",
      "\n",
      "Los datos se han exportado a vacantes.xlsx correctamente.\n"
     ]
    }
   ],
   "source": [
    "data = []\n",
    "\n",
    "for url in link_chambas:\n",
    "\n",
    "    service = Service(executable_path=ruta_driver)\n",
    "    browser = webdriver.Chrome(service=service, options=chrome_options)\n",
    "    browser.get(url)\n",
    "\n",
    "    # Tiempo de Espera\n",
    "    # Te recomiendo no moverle a este, se que es tardado, pero creeme.\n",
    "    # No quieres ver como el scrapper deja de funcionar porque OCC te pide responder un captcha.\n",
    "    wait_time = random.uniform(3, 6)\n",
    "    print(f\"Esperando {wait_time:.2f} segundos antes de continuar...\")\n",
    "    time.sleep(wait_time)\n",
    "\n",
    "    # Obtiene el contenido HTML de la página\n",
    "    soup = bs(browser.page_source, 'html.parser')\n",
    "    try:\n",
    "        jss = WebDriverWait(browser, 5).until(\n",
    "                    EC.element_to_be_clickable((By.ID, \"flex flex-col gap-2 h-full items-center justify-center\")))\n",
    "        jss.click()\n",
    "    except:\n",
    "        pass\n",
    "\n",
    "    vacante = {}\n",
    "\n",
    "    # TITULO\n",
    "    try:\n",
    "        vacante[\"Título\"] = soup.find('p', {'class': 'text-[24px] leading-[110%]'}).text\n",
    "        #print(f\"Título obtenido: {titulo}\")\n",
    "    except AttributeError:\n",
    "        print(f\"No se encontró el título en: {url}\")\n",
    "\n",
    "    # UBICACIÓN\n",
    "    try:\n",
    "        vacante[\"Ubicación\"] = soup.find('label',{'class':'font-light ml-1'}).text.split(',')[0]\n",
    "        print(f\"Ubicación obtenida:\", vacante[\"Ubicación\"])\n",
    "    except AttributeError:\n",
    "        print(f\"No se encontró el lugar en: {url}\")\n",
    "\n",
    "    # Paga\n",
    "    try:\n",
    "        div_principal = soup.find('div', {'class': 'flex flex-wrap gap-x-1 mt-1 items-center'})\n",
    "\n",
    "        vacante[\"Paga\"] = div_principal.find('p', class_= 'text-[18px] leading-6').text.strip()\n",
    "\n",
    "        print(f\"Paga obtenida:\", vacante[\"Paga\"])\n",
    "    except AttributeError:\n",
    "        print(f\"No se encontró la Paga en el formato especificado.\")\n",
    "\n",
    "\n",
    "    # EMPRESA\n",
    "    try:\n",
    "        vacante[\"Empresa\"] = soup.select_one('div[class=\"mt-1\"] span.line-clamp-1').text.strip()\n",
    "        print(f\"Empresa obtenida:\", vacante[\"Empresa\"])\n",
    "    except AttributeError:\n",
    "        print(f\"No se encontró la empresa en: {url}\")\n",
    "\n",
    "    # Las SECCIÓNES \"Sobre la empresa\" y \"Detalles\" suelen ser relleno, la que realmente contiene la información importante es \"DESCRIPCIÓN\"\n",
    "    # INFO (Sobre el Empleo)\n",
    "    try:\n",
    "        info = soup.find('div',{'class':'flex flex-col gap-2'})\n",
    "        vacante[\"I_About\"] = info.get_text(separator='\\n').strip()\n",
    "        #print(f\"Info obtenida: {informacion_completa}\")\n",
    "    except AttributeError:\n",
    "        print(f\"No se encontró la info en: {url}\")\n",
    "\n",
    "    # INFO (Detalles)\n",
    "    try:\n",
    "        info = soup.find('div',{'class':'[&>div]:flex [&>div]:mb-1'})\n",
    "        vacante[\"I_Detalles\"] = info.get_text(separator='\\n').strip()\n",
    "        #print(f\"Info obtenida: {informacion_completa}\")\n",
    "    except AttributeError:\n",
    "        print(f\"No se encontró la info en: {url}\")\n",
    "\n",
    "    # INFO (Descripción)\n",
    "    try:\n",
    "        info = soup.find('div',{'class':'break-words mb-8'})\n",
    "        vacante[\"I_Descripción\"] = info.get_text(separator='\\n').strip()\n",
    "        #print(f\"Info obtenida: {informacion_completa}\")\n",
    "    except AttributeError:\n",
    "        print(f\"No se encontró la info en: {url}\")\n",
    "    data.append(vacante)\n",
    "\n",
    "    # ENLACE\n",
    "    try:\n",
    "        vacante[\"Enlace\"]=url\n",
    "    except AttributeError:\n",
    "        print(\"No se pudo guardar el enlace\")\n",
    "    print(\"\")\n",
    "\n",
    "    browser.quit()\n",
    "\n",
    "# Crear DataFrame con los Datos\n",
    "df = pd.DataFrame(data)\n",
    "\n",
    "# Exportar datos a Excel\n",
    "nombre_archivo = f\"OCC_{busqueda.replace(' ', '_')}.xlsx\"\n",
    "df.to_excel(nombre_archivo, index=False, engine=\"openpyxl\")\n",
    "\n",
    "print(\"Los datos se han exportado a vacantes.xlsx correctamente.\")\n"
   ]
  }
 ],
 "metadata": {
  "kernelspec": {
   "display_name": "venv (3.12.6)",
   "language": "python",
   "name": "python3"
  },
  "language_info": {
   "codemirror_mode": {
    "name": "ipython",
    "version": 3
   },
   "file_extension": ".py",
   "mimetype": "text/x-python",
   "name": "python",
   "nbconvert_exporter": "python",
   "pygments_lexer": "ipython3",
   "version": "3.12.6"
  }
 },
 "nbformat": 4,
 "nbformat_minor": 5
}
