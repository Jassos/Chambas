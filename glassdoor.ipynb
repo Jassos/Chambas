{
 "cells": [
  {
   "cell_type": "markdown",
   "id": "90ed7e154074be16",
   "metadata": {},
   "source": [
    "# DEPENDENCIAS\n",
    "\n",
    "Puedes ejecutar una vez este codigo y luego borrarlo."
   ]
  },
  {
   "cell_type": "markdown",
   "id": "9b8942b80f410544",
   "metadata": {},
   "source": [
    "# Librerias"
   ]
  },
  {
   "cell_type": "code",
   "execution_count": 8,
   "id": "initial_id",
   "metadata": {
    "ExecuteTime": {
     "end_time": "2025-01-30T16:38:14.743868Z",
     "start_time": "2025-01-30T16:38:13.654271Z"
    },
    "collapsed": true
   },
   "outputs": [],
   "source": [
    "#import requests\n",
    "import pandas as pd\n",
    "from bs4 import BeautifulSoup as bs\n",
    "\n",
    "import random\n",
    "\n",
    "import time\n",
    "\n",
    "from selenium import webdriver\n",
    "from selenium.webdriver.common.by import By\n",
    "from selenium.webdriver.common.keys import Keys\n",
    "from selenium.webdriver.chrome.service import Service\n",
    "from selenium.webdriver.chrome.options import Options\n",
    "\n",
    "import undetected_chromedriver as uc\n",
    "\n",
    "from dotenv import load_dotenv\n",
    "from openai import OpenAI\n",
    "from pydantic import BaseModel\n",
    "\n",
    "\n"
   ]
  },
  {
   "cell_type": "markdown",
   "id": "70f194aa",
   "metadata": {},
   "source": [
    "# Entradas"
   ]
  },
  {
   "cell_type": "code",
   "execution_count": null,
   "id": "47238312",
   "metadata": {},
   "outputs": [],
   "source": [
    "# Ruta local al driver de Chrome\n",
    "ruta_driver = r\"chromedriver-win64/chromedriver.exe\"\n",
    "\n",
    "# Configuración de opciones del navegador\n",
    "chrome_options = Options()\n",
    "# chrome_options.add_argument('--headless')  # Ejecutar sin abrir ventana\n",
    "chrome_options.add_argument('--disable-gpu')\n",
    "chrome_options.add_argument('--no-sandbox')\n",
    "\n",
    "load_dotenv()\n",
    "client = OpenAI(api_key=os.getenv(\"OPENAI_API_KEY\"))"
   ]
  },
  {
   "cell_type": "markdown",
   "id": "cddd36a8b9c3aa0f",
   "metadata": {},
   "source": [
    "# Obtención de Enlaces"
   ]
  },
  {
   "cell_type": "code",
   "execution_count": null,
   "id": "cbe8ef923e12fa8a",
   "metadata": {
    "ExecuteTime": {
     "end_time": "2025-01-30T17:53:05.121369Z",
     "start_time": "2025-01-30T17:52:58.743346Z"
    }
   },
   "outputs": [],
   "source": [
    "# Abre Google\n",
    "service = Service(executable_path=ruta_driver)\n",
    "browser = webdriver.Chrome(service=service, options=chrome_options)\n",
    "\n",
    "# Esta variable solo servira para asignarle nombre al Excel que se generara al final.\n",
    "# Te recomiendo ponerle algo con lo que lo diferencies de los demás.\n",
    "busqueda = 'Software Architect'\n",
    "\n",
    "# AQUI poner el enlace de GLASSDOOR con el trabajo ya buscado:\n",
    "# Abres ESTE mismo enlace\n",
    "# Buscas el trabajo que necesitas \"Scrappear\"\n",
    "# Copias el enlace principal y lo pegas acá.\n",
    "url = 'https://www.glassdoor.com.mx/Empleo/estados-unidos-software-architect-empleos-SRCH_IL.0,14_IN1_KO15,33.htm'\n",
    "\n",
    "print(url)\n",
    "\n",
    "# Se ingresa el URL asignado\n",
    "browser.get(url)\n",
    "\n",
    "# Obtención de estructura HTML\n",
    "html = browser.page_source\n",
    "soup = bs(html, 'lxml')\n",
    "\n",
    "# Filtrado de enlaces\n",
    "articles = soup.find('ul', {'class': 'JobsList_jobsList__lqjTr'}).find_all('a', {'class': 'JobCard_jobTitle__GLyJ1'})\n",
    "link_chambas = [article.get('href') for article in articles]\n",
    "\n",
    "browser.quit()\n",
    "\n",
    "# Selecciona 15 enlaces aleatorios de la lista\n",
    "# Este lo puedes ajustar como gustes, yo puse 15 para tener de donde escoger.\n",
    "link_chambas = random.sample(link_chambas, min(len(link_chambas), 10))\n",
    "link_chambas\n",
    "\n"
   ]
  },
  {
   "cell_type": "markdown",
   "id": "8e0a3d88c7ed4b51",
   "metadata": {},
   "source": [
    "## Scrapping de Trabajos y Exportación EXCEL"
   ]
  },
  {
   "cell_type": "code",
   "execution_count": null,
   "id": "54559482",
   "metadata": {},
   "outputs": [],
   "source": [
    "data = []\n",
    "\n",
    "for url in link_chambas:\n",
    "\n",
    "    service = Service(executable_path=ruta_driver)\n",
    "    browser = webdriver.Chrome(service=service, options=chrome_options)\n",
    "    browser.get(url)\n",
    "\n",
    "    wait_time = random.uniform(3, 6)\n",
    "    print(f\"Esperando {wait_time:.2f} segundos antes de continuar...\")\n",
    "    time.sleep(wait_time)\n",
    "\n",
    "    soup = bs(browser.page_source, 'html.parser')\n",
    "\n",
    "    vacante = {}\n",
    "\n",
    "    try:\n",
    "        info = soup.find('div',{'class':'JobDetails_jobDetailsContainer__y9P3L'})\n",
    "        vacante[\"Descripción\"] = info.get_text(separator='\\n').strip()\n",
    "    except AttributeError:\n",
    "        print(f\"No se encontró la info en: {url}\")\n",
    "\n",
    "    vacante[\"Enlace\"] = url  # Esto no genera error, así que no necesitas try/except aquí\n",
    "\n",
    "    data.append(vacante)\n",
    "    print(vacante)\n",
    "\n",
    "    print(\"\")\n",
    "    browser.quit()\n",
    "\n",
    "# Eliminar fragmento de texto especifico que siempre sale.\n",
    "for vacante in data:\n",
    "    vacante[\"Descripción\"] = vacante[\"Descripción\"].replace(\"Postularse en el sitio del empleador\\nPostúlate ahora\", \"\")\n",
    "\n",
    "# Guardar datos como JSON estructurado y legible\n",
    "nombre_archivo = f\"GlassDoor_{busqueda.replace(' ', '_')}.json\"\n",
    "with open(nombre_archivo, 'w', encoding='utf-8') as f:\n",
    "    json.dump(data, f, ensure_ascii=False, indent=2)\n",
    "\n",
    "print(\"Los datos se han exportado correctamente como JSON.\")\n"
   ]
  },
  {
   "cell_type": "markdown",
   "id": "dc1bbf97",
   "metadata": {},
   "source": [
    "# Open AI USE"
   ]
  },
  {
   "cell_type": "code",
   "execution_count": null,
   "id": "2552eb20",
   "metadata": {},
   "outputs": [],
   "source": [
    "class structure(BaseModel):\n",
    "    place: str\n",
    "    company: str\n",
    "    position: str\n",
    "    academic_profile: str\n",
    "    english_level: str\n",
    "    technical_skills: str\n",
    "    soft_skills: str\n",
    "    salary: str\n",
    "    source: str\n",
    "    link: str"
   ]
  },
  {
   "cell_type": "code",
   "execution_count": null,
   "id": "87fc8d7a",
   "metadata": {},
   "outputs": [],
   "source": [
    "resultados = []\n",
    "df = pd.DataFrame()\n",
    "df_vacantes = pd.DataFrame(data)\n",
    "\n",
    "columnas_estructuradas = structure.model_fields.keys()\n",
    "for col in columnas_estructuradas:\n",
    "    df_vacantes[col] = None\n",
    "\n",
    "for idx, row in df_vacantes.iterrows():\n",
    "    texto = row[\"Descripción\"]\n",
    "    enlace = row[\"Enlace\"]\n",
    "    print(f\"Procesando vacante {idx+1} de {len(df_vacantes)}: {enlace}\")\n",
    "\n",
    "\n",
    "    try:\n",
    "        response = client.responses.parse(\n",
    "            model = \"gpt-5\",\n",
    "            input = [\n",
    "                {\n",
    "                    #Instrucciones para el asistente\n",
    "                    \"role\": \"system\",\n",
    "                    \"content\": \"Eres un asistente experto en extraer información de ofertas laborales. Tu tarea es analizar el texto proporcionado y generar una estructura con los campos requeridos sin alterar el texto original (A menos que se te especifique, como es el caso de English_level). No debes incluir ningún comentario o explicación adicional, solo el contenido estructurado con la información extraída. En el campo de 'english_level', si no se menciona explicitamente pero se infiere que el puesto requiere un nivel de inglés avanzado (por ejemplo, que el pais de la solicitud sea angloparlante), debes asignar 'Nativo'. Si no se menciona el nivel de inglés, asigna 'No especificado'. El apartado de 'source' siempre sera 'Glassdoor'.\",\n",
    "                },\n",
    "                {\n",
    "                    \"role\": \"user\",\n",
    "                    \"content\": f\"Usa el siguiente texto para extraer la información requerida:\\n\\n{texto}, enlace: {enlace}\"\n",
    "                },\n",
    "            ],\n",
    "            temperature=0.2,\n",
    "            text_format=structure,\n",
    "        )\n",
    "        \n",
    "        resultados = pd.DataFrame(response.output_parsed)\n",
    "        resultados = resultados.transpose() # Transponer el DataFrame\n",
    "        resultados.columns = resultados.iloc[0] # Columna\n",
    "\n",
    "        resultados = resultados[1:]  # Eliminar la primera fila que ahora es el encabezado\n",
    "        df = pd.concat([df, resultados], ignore_index=True)\n",
    "        print(\"Trabajos formateados exitosamente.\")\n",
    "        df\n",
    "    \n",
    "\n",
    "\n",
    "    except Exception as e:\n",
    "        print(f\"Error al procesar la vacante {enlace}\")\n",
    "        print(e)\n"
   ]
  },
  {
   "cell_type": "markdown",
   "id": "4f241825",
   "metadata": {},
   "source": [
    "---"
   ]
  },
  {
   "cell_type": "code",
   "execution_count": null,
   "id": "cc6afa40",
   "metadata": {},
   "outputs": [],
   "source": [
    "df"
   ]
  },
  {
   "cell_type": "code",
   "execution_count": null,
   "id": "e0e16f31",
   "metadata": {},
   "outputs": [],
   "source": [
    "# Exportar datos a Excel\n",
    "df.to_excel(f\"sad{busqueda.replace(' ', '_')}.xlsx\", index=False, engine=\"openpyxl\")"
   ]
  }
 ],
 "metadata": {
  "kernelspec": {
   "display_name": "venv (3.12.6)",
   "language": "python",
   "name": "python3"
  },
  "language_info": {
   "codemirror_mode": {
    "name": "ipython",
    "version": 3
   },
   "file_extension": ".py",
   "mimetype": "text/x-python",
   "name": "python",
   "nbconvert_exporter": "python",
   "pygments_lexer": "ipython3",
   "version": "3.12.6"
  }
 },
 "nbformat": 4,
 "nbformat_minor": 5
}
